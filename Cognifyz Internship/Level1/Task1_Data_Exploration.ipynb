{
 "cells": [
  {
   "cell_type": "markdown",
   "id": "bec73a08",
   "metadata": {},
   "source": [
    "# Level 1 - Task 1: Data Exploration and Preprocessing"
   ]
  },
  {
   "cell_type": "code",
   "execution_count": 10,
   "id": "e28f6ea8",
   "metadata": {},
   "outputs": [],
   "source": [
    "import pandas as pd\n",
    "import matplotlib.pyplot as plt\n",
    "import seaborn as sns"
   ]
  },
  {
   "cell_type": "code",
   "execution_count": 11,
   "id": "b64a2cbc",
   "metadata": {},
   "outputs": [],
   "source": [
    "#Loading the dataset file\n",
    "df = pd.read_csv(\"/Users/arindamsharma/Desktop/Cognifyz Internship/Dataset.csv\")"
   ]
  },
  {
   "cell_type": "code",
   "execution_count": 12,
   "id": "b7393f60",
   "metadata": {},
   "outputs": [
    {
     "name": "stdout",
     "output_type": "stream",
     "text": [
      "Number of rows: 9551\n",
      "Number of columns: 21\n"
     ]
    }
   ],
   "source": [
    "#Identifying Number of rows and columns\n",
    "print(f\"Number of rows: {df.shape[0]}\")\n",
    "print(f\"Number of columns: {df.shape[1]}\")"
   ]
  },
  {
   "cell_type": "code",
   "execution_count": 13,
   "id": "07561c6a",
   "metadata": {},
   "outputs": [
    {
     "name": "stdout",
     "output_type": "stream",
     "text": [
      "Missing values:\n",
      " Cuisines    9\n",
      "dtype: int64\n"
     ]
    }
   ],
   "source": [
    "# Checking for missing values\n",
    "missing = df.isnull().sum()\n",
    "print(\"Missing values:\\n\", missing[missing > 0])"
   ]
  },
  {
   "cell_type": "code",
   "execution_count": 14,
   "id": "1d9ce577",
   "metadata": {},
   "outputs": [
    {
     "name": "stdout",
     "output_type": "stream",
     "text": [
      "Data types:\n",
      " Restaurant ID             int64\n",
      "Restaurant Name          object\n",
      "Country Code              int64\n",
      "City                     object\n",
      "Address                  object\n",
      "Locality                 object\n",
      "Locality Verbose         object\n",
      "Longitude               float64\n",
      "Latitude                float64\n",
      "Cuisines                 object\n",
      "Average Cost for two      int64\n",
      "Currency                 object\n",
      "Has Table booking        object\n",
      "Has Online delivery      object\n",
      "Is delivering now        object\n",
      "Switch to order menu     object\n",
      "Price range               int64\n",
      "Aggregate rating        float64\n",
      "Rating color             object\n",
      "Rating text              object\n",
      "Votes                     int64\n",
      "dtype: object\n"
     ]
    }
   ],
   "source": [
    "#Handling the mising values\n",
    "df = df.dropna(subset=['Cuisines'])\n",
    "print(\"Data types:\\n\", df.dtypes)"
   ]
  },
  {
   "cell_type": "code",
   "execution_count": 18,
   "id": "3a01270d",
   "metadata": {},
   "outputs": [
    {
     "data": {
      "image/png": "[encoded data removed]",
      "text/plain": [
       "<Figure size 800x500 with 1 Axes>"
      ]
     },
     "metadata": {},
     "output_type": "display_data"
    }
   ],
   "source": [
    "#Distribution of Aggregate Rating\n",
    "plt.figure(figsize=(8, 5))\n",
    "sns.histplot(df['Aggregate rating'])\n",
    "plt.title(\"Distribution of Aggregate Ratings\")\n",
    "plt.xlabel(\"Aggregate Rating\")\n",
    "plt.ylabel(\"Number of Restaurants\")\n",
    "plt.grid(True)\n",
    "plt.show()"
   ]
  },
  {
   "cell_type": "code",
   "execution_count": 9,
   "id": "59801b2a",
   "metadata": {},
   "outputs": [
    {
     "name": "stdout",
     "output_type": "stream",
     "text": [
      "Value counts for Aggregate rating:\n",
      "Aggregate rating\n",
      "0.0    2148\n",
      "1.8       1\n",
      "1.9       2\n",
      "2.0       7\n",
      "2.1      15\n",
      "2.2      27\n",
      "2.3      47\n",
      "2.4      87\n",
      "2.5     110\n",
      "2.6     191\n",
      "2.7     250\n",
      "2.8     315\n",
      "2.9     381\n",
      "3.0     468\n",
      "3.1     519\n",
      "3.2     522\n",
      "3.3     483\n",
      "3.4     495\n",
      "3.5     480\n",
      "3.6     458\n",
      "3.7     427\n",
      "3.8     399\n",
      "3.9     332\n",
      "4.0     266\n",
      "4.1     274\n",
      "4.2     221\n",
      "4.3     174\n",
      "4.4     143\n",
      "4.5      95\n",
      "4.6      78\n",
      "4.7      41\n",
      "4.8      25\n",
      "4.9      61\n",
      "Name: count, dtype: int64\n"
     ]
    }
   ],
   "source": [
    "# Checking for imbalances\n",
    "print(\"Value counts for Aggregate rating:\")\n",
    "print(df['Aggregate rating'].value_counts().sort_index())"
   ]
  }
 ],
 "metadata": {
  "kernelspec": {
   "display_name": "Python 3",
   "language": "python",
   "name": "python3"
  },
  "language_info": {
   "codemirror_mode": {
    "name": "ipython",
    "version": 3
   },
   "file_extension": ".py",
   "mimetype": "text/x-python",
   "name": "python",
   "nbconvert_exporter": "python",
   "pygments_lexer": "ipython3",
   "version": "3.12.1"
  }
 },
 "nbformat": 4,
 "nbformat_minor": 5
}
