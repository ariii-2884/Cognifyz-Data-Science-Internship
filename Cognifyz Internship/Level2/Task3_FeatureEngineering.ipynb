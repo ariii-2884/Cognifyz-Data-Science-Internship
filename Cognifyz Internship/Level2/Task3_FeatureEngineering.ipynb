{
 "cells": [
  {
   "cell_type": "markdown",
   "id": "eedb118f",
   "metadata": {},
   "source": [
    "# Level 2 - Task 3: Feature Engineering"
   ]
  },
  {
   "cell_type": "code",
   "execution_count": 1,
   "id": "965ea8f1",
   "metadata": {},
   "outputs": [],
   "source": [
    "import pandas as pd\n",
    "\n",
    "df = pd.read_csv(\"/Users/arindamsharma/Desktop/Cognifyz Internship/Dataset.csv\")"
   ]
  },
  {
   "cell_type": "code",
   "execution_count": 2,
   "id": "09e1d5ef",
   "metadata": {},
   "outputs": [
    {
     "data": {
      "text/html": [
       "<div>\n",
       "<style scoped>\n",
       "    .dataframe tbody tr th:only-of-type {\n",
       "        vertical-align: middle;\n",
       "    }\n",
       "\n",
       "    .dataframe tbody tr th {\n",
       "        vertical-align: top;\n",
       "    }\n",
       "\n",
       "    .dataframe thead th {\n",
       "        text-align: right;\n",
       "    }\n",
       "</style>\n",
       "<table border=\"1\" class=\"dataframe\">\n",
       "  <thead>\n",
       "    <tr style=\"text-align: right;\">\n",
       "      <th></th>\n",
       "      <th>Restaurant Name</th>\n",
       "      <th>Name Length</th>\n",
       "      <th>Address</th>\n",
       "      <th>Address Length</th>\n",
       "    </tr>\n",
       "  </thead>\n",
       "  <tbody>\n",
       "    <tr>\n",
       "      <th>0</th>\n",
       "      <td>Le Petit Souffle</td>\n",
       "      <td>16</td>\n",
       "      <td>Third Floor, Century City Mall, Kalayaan Avenu...</td>\n",
       "      <td>71</td>\n",
       "    </tr>\n",
       "    <tr>\n",
       "      <th>1</th>\n",
       "      <td>Izakaya Kikufuji</td>\n",
       "      <td>16</td>\n",
       "      <td>Little Tokyo, 2277 Chino Roces Avenue, Legaspi...</td>\n",
       "      <td>67</td>\n",
       "    </tr>\n",
       "    <tr>\n",
       "      <th>2</th>\n",
       "      <td>Heat - Edsa Shangri-La</td>\n",
       "      <td>22</td>\n",
       "      <td>Edsa Shangri-La, 1 Garden Way, Ortigas, Mandal...</td>\n",
       "      <td>56</td>\n",
       "    </tr>\n",
       "    <tr>\n",
       "      <th>3</th>\n",
       "      <td>Ooma</td>\n",
       "      <td>4</td>\n",
       "      <td>Third Floor, Mega Fashion Hall, SM Megamall, O...</td>\n",
       "      <td>70</td>\n",
       "    </tr>\n",
       "    <tr>\n",
       "      <th>4</th>\n",
       "      <td>Sambo Kojin</td>\n",
       "      <td>11</td>\n",
       "      <td>Third Floor, Mega Atrium, SM Megamall, Ortigas...</td>\n",
       "      <td>64</td>\n",
       "    </tr>\n",
       "  </tbody>\n",
       "</table>\n",
       "</div>"
      ],
      "text/plain": [
       "          Restaurant Name  Name Length  \\\n",
       "0        Le Petit Souffle           16   \n",
       "1        Izakaya Kikufuji           16   \n",
       "2  Heat - Edsa Shangri-La           22   \n",
       "3                    Ooma            4   \n",
       "4             Sambo Kojin           11   \n",
       "\n",
       "                                             Address  Address Length  \n",
       "0  Third Floor, Century City Mall, Kalayaan Avenu...              71  \n",
       "1  Little Tokyo, 2277 Chino Roces Avenue, Legaspi...              67  \n",
       "2  Edsa Shangri-La, 1 Garden Way, Ortigas, Mandal...              56  \n",
       "3  Third Floor, Mega Fashion Hall, SM Megamall, O...              70  \n",
       "4  Third Floor, Mega Atrium, SM Megamall, Ortigas...              64  "
      ]
     },
     "execution_count": 2,
     "metadata": {},
     "output_type": "execute_result"
    }
   ],
   "source": [
    "#Additional features of the restaurant\n",
    "df['Name Length'] = df['Restaurant Name'].apply(lambda x: len(str(x)))\n",
    "df['Address Length'] = df['Address'].apply(lambda x: len(str(x)))\n",
    "\n",
    "df[['Restaurant Name', 'Name Length', 'Address', 'Address Length']].head()"
   ]
  },
  {
   "cell_type": "code",
   "execution_count": null,
   "id": "92161e9c",
   "metadata": {},
   "outputs": [
    {
     "data": {
      "text/html": [
       "<div>\n",
       "<style scoped>\n",
       "    .dataframe tbody tr th:only-of-type {\n",
       "        vertical-align: middle;\n",
       "    }\n",
       "\n",
       "    .dataframe tbody tr th {\n",
       "        vertical-align: top;\n",
       "    }\n",
       "\n",
       "    .dataframe thead th {\n",
       "        text-align: right;\n",
       "    }\n",
       "</style>\n",
       "<table border=\"1\" class=\"dataframe\">\n",
       "  <thead>\n",
       "    <tr style=\"text-align: right;\">\n",
       "      <th></th>\n",
       "      <th>Has Table booking</th>\n",
       "      <th>Table_Booking_Encoded</th>\n",
       "      <th>Has Online delivery</th>\n",
       "      <th>Online_Delivery_Encoded</th>\n",
       "    </tr>\n",
       "  </thead>\n",
       "  <tbody>\n",
       "    <tr>\n",
       "      <th>0</th>\n",
       "      <td>Yes</td>\n",
       "      <td>1</td>\n",
       "      <td>No</td>\n",
       "      <td>0</td>\n",
       "    </tr>\n",
       "    <tr>\n",
       "      <th>1</th>\n",
       "      <td>Yes</td>\n",
       "      <td>1</td>\n",
       "      <td>No</td>\n",
       "      <td>0</td>\n",
       "    </tr>\n",
       "    <tr>\n",
       "      <th>2</th>\n",
       "      <td>Yes</td>\n",
       "      <td>1</td>\n",
       "      <td>No</td>\n",
       "      <td>0</td>\n",
       "    </tr>\n",
       "    <tr>\n",
       "      <th>3</th>\n",
       "      <td>No</td>\n",
       "      <td>0</td>\n",
       "      <td>No</td>\n",
       "      <td>0</td>\n",
       "    </tr>\n",
       "    <tr>\n",
       "      <th>4</th>\n",
       "      <td>Yes</td>\n",
       "      <td>1</td>\n",
       "      <td>No</td>\n",
       "      <td>0</td>\n",
       "    </tr>\n",
       "  </tbody>\n",
       "</table>\n",
       "</div>"
      ],
      "text/plain": [
       "  Has Table booking  Table_Booking_Encoded Has Online delivery  \\\n",
       "0               Yes                      1                  No   \n",
       "1               Yes                      1                  No   \n",
       "2               Yes                      1                  No   \n",
       "3                No                      0                  No   \n",
       "4               Yes                      1                  No   \n",
       "\n",
       "   Online_Delivery_Encoded  \n",
       "0                        0  \n",
       "1                        0  \n",
       "2                        0  \n",
       "3                        0  \n",
       "4                        0  "
      ]
     },
     "execution_count": 3,
     "metadata": {},
     "output_type": "execute_result"
    }
   ],
   "source": [
    "#Encoding Categorical variables:\n",
    "df['Table_Booking_Encoded'] = df['Has Table booking'].map({'Yes': 1, 'No': 0})\n",
    "df['Online_Delivery_Encoded'] = df['Has Online delivery'].map({'Yes': 1, 'No': 0})\n",
    "\n",
    "df[['Has Table booking', 'Table_Booking_Encoded', 'Has Online delivery', 'Online_Delivery_Encoded']].head()"
   ]
  },
  {
   "cell_type": "code",
   "execution_count": 4,
   "id": "0cd1a693",
   "metadata": {},
   "outputs": [
    {
     "name": "stdout",
     "output_type": "stream",
     "text": [
      "<class 'pandas.core.frame.DataFrame'>\n",
      "RangeIndex: 9551 entries, 0 to 9550\n",
      "Data columns (total 4 columns):\n",
      " #   Column                   Non-Null Count  Dtype\n",
      "---  ------                   --------------  -----\n",
      " 0   Name Length              9551 non-null   int64\n",
      " 1   Address Length           9551 non-null   int64\n",
      " 2   Table_Booking_Encoded    9551 non-null   int64\n",
      " 3   Online_Delivery_Encoded  9551 non-null   int64\n",
      "dtypes: int64(4)\n",
      "memory usage: 298.6 KB\n",
      "None\n"
     ]
    }
   ],
   "source": [
    "# Final check\n",
    "print(df[['Name Length', 'Address Length', 'Table_Booking_Encoded', 'Online_Delivery_Encoded']].info())"
   ]
  }
 ],
 "metadata": {
  "kernelspec": {
   "display_name": "Python 3",
   "language": "python",
   "name": "python3"
  },
  "language_info": {
   "codemirror_mode": {
    "name": "ipython",
    "version": 3
   },
   "file_extension": ".py",
   "mimetype": "text/x-python",
   "name": "python",
   "nbconvert_exporter": "python",
   "pygments_lexer": "ipython3",
   "version": "3.12.1"
  }
 },
 "nbformat": 4,
 "nbformat_minor": 5
}
